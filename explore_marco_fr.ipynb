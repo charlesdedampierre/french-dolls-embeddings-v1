{
 "cells": [
  {
   "cell_type": "code",
   "execution_count": 1,
   "metadata": {},
   "outputs": [
    {
     "name": "stderr",
     "output_type": "stream",
     "text": [
      "/home/charles/.cache/pypoetry/virtualenvs/bunkatopics-ybLbeXnh-py3.10/lib/python3.10/site-packages/huggingface_hub/repocard.py:105: UserWarning: Repo card metadata block was not found. Setting CardData to empty.\n",
      "  warnings.warn(\"Repo card metadata block was not found. Setting CardData to empty.\")\n"
     ]
    }
   ],
   "source": [
    "from datasets import load_dataset\n",
    "\n",
    "dataset = load_dataset('unicamp-dl/mmarco', 'french')"
   ]
  },
  {
   "cell_type": "code",
   "execution_count": 3,
   "metadata": {},
   "outputs": [],
   "source": [
    "# Shuffle the dataset and take a sample of 50,000\n",
    "dataset_sample = dataset['train'].shuffle(seed=42).select(range(50000))"
   ]
  },
  {
   "cell_type": "code",
   "execution_count": 11,
   "metadata": {},
   "outputs": [],
   "source": [
    "import pandas as pd\n",
    "\n",
    "# Assuming 'sample' is your dataset sample of 50,000 entries\n",
    "df_sample = pd.DataFrame({\n",
    "    'query': dataset_sample['query'],\n",
    "    'positive': dataset_sample['positive'],\n",
    "    'negative': dataset_sample['negative']\n",
    "})\n",
    "\n",
    "df_sample.to_csv('data/marco_fr_sample.csv')"
   ]
  },
  {
   "cell_type": "code",
   "execution_count": 13,
   "metadata": {},
   "outputs": [],
   "source": [
    "df_sample = pd.read_csv('data/marco_fr_sample.csv')"
   ]
  },
  {
   "cell_type": "code",
   "execution_count": 16,
   "metadata": {},
   "outputs": [
    {
     "name": "stderr",
     "output_type": "stream",
     "text": [
      "  0%|          | 0/50000 [00:00<?, ?it/s]"
     ]
    },
    {
     "name": "stderr",
     "output_type": "stream",
     "text": [
      "100%|██████████| 50000/50000 [00:02<00:00, 18832.10it/s]\n"
     ]
    }
   ],
   "source": [
    "from sentence_transformers import InputExample\n",
    "from tqdm import tqdm\n",
    "\n",
    "# Assuming 'sample' is your dataset sample of 50,000 entries\n",
    "input_examples = []\n",
    "\n",
    "for index, row in tqdm(df_sample.iterrows(), total=len(df_sample)):\n",
    "    input_example = InputExample(texts=[row['query'], row['positive'], row['negative']])\n",
    "    input_examples.append(input_example)"
   ]
  },
  {
   "cell_type": "code",
   "execution_count": 19,
   "metadata": {},
   "outputs": [
    {
     "data": {
      "text/plain": [
       "['le facteur le plus important qui influence la sécrétion de k+ est __________.',\n",
       " \"La régulation de la distribution du K+ entre l'espace intracellulaire et extracellulaire est appelée équilibre K+ interne. Les facteurs les plus importants régulant ce mouvement dans des conditions normales sont l'insuline et les catécholamines (1).\",\n",
       " \"Ils sont tous deux également importants pour la sécrétion et l'écoulement de la bile : 1 Cholécystokinine : Le nom de cette hormone décrit son effet sur le système biliaire-cholécysto = vésicule biliaire et kinine = mouvement. 2 Sécrétine : Cette hormone est sécrétée en réponse à l'acide dans le duodénum.\"]"
      ]
     },
     "execution_count": 19,
     "metadata": {},
     "output_type": "execute_result"
    }
   ],
   "source": []
  }
 ],
 "metadata": {
  "kernelspec": {
   "display_name": "bunkatopics-ybLbeXnh-py3.10",
   "language": "python",
   "name": "python3"
  },
  "language_info": {
   "codemirror_mode": {
    "name": "ipython",
    "version": 3
   },
   "file_extension": ".py",
   "mimetype": "text/x-python",
   "name": "python",
   "nbconvert_exporter": "python",
   "pygments_lexer": "ipython3",
   "version": "3.10.12"
  }
 },
 "nbformat": 4,
 "nbformat_minor": 2
}
